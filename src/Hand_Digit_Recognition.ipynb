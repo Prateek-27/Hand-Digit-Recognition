{
  "nbformat": 4,
  "nbformat_minor": 0,
  "metadata": {
    "colab": {
      "provenance": []
    },
    "kernelspec": {
      "name": "python3",
      "display_name": "Python 3"
    },
    "language_info": {
      "name": "python"
    }
  },
  "cells": [
    {
      "cell_type": "code",
      "source": [
        "import numpy as np\n",
        "import tensorflow as tf\n",
        "from tensorflow.keras.models import Sequential\n",
        "from tensorflow.keras.layers import Dense\n",
        "from tensorflow.keras.activations import linear, relu, sigmoid\n",
        "from sklearn.model_selection import train_test_split\n",
        "from tensorflow.keras.datasets import mnist\n",
        "import matplotlib.pyplot as plt\n"
      ],
      "metadata": {
        "id": "LTaiwWJm288A"
      },
      "execution_count": 181,
      "outputs": []
    },
    {
      "cell_type": "markdown",
      "source": [
        "Load Data"
      ],
      "metadata": {
        "id": "5CcKbmR8GPhW"
      }
    },
    {
      "cell_type": "code",
      "execution_count": 182,
      "metadata": {
        "id": "vQ5k4DpEzv73"
      },
      "outputs": [],
      "source": [
        "(X_train, y_train), (X_test, y_test) = mnist.load_data()"
      ]
    },
    {
      "cell_type": "code",
      "source": [
        "X_train = X_train.reshape(-1, 28*28).astype('float32') / 255.0\n",
        "X_test = X_test.reshape(-1, 28*28).astype('float32') / 255.0"
      ],
      "metadata": {
        "id": "-oVmsn4zxLr9"
      },
      "execution_count": 183,
      "outputs": []
    },
    {
      "cell_type": "code",
      "source": [
        "print ('The shape of X Train is: ' + str(X_train.shape))\n",
        "print ('The shape of X Test is: ' + str(X_test.shape))\n",
        "\n",
        "print ('The shape of y Train is: ' + str(y_train.shape))\n",
        "print ('The shape of y Test is: ' + str(y_test.shape))"
      ],
      "metadata": {
        "colab": {
          "base_uri": "https://localhost:8080/"
        },
        "id": "QqswK2E-7bwH",
        "outputId": "90798d96-3dba-4adc-fe39-aa439a2d1104"
      },
      "execution_count": 184,
      "outputs": [
        {
          "output_type": "stream",
          "name": "stdout",
          "text": [
            "The shape of X Train is: (60000, 784)\n",
            "The shape of X Test is: (10000, 784)\n",
            "The shape of y Train is: (60000,)\n",
            "The shape of y Test is: (10000,)\n"
          ]
        }
      ]
    },
    {
      "cell_type": "markdown",
      "source": [
        "View Random Images from the dataset and their labels"
      ],
      "metadata": {
        "id": "ht6o59JCGUif"
      }
    },
    {
      "cell_type": "code",
      "source": [
        "fig, axes = plt.subplots(4, 4, figsize=(8, 8))\n",
        "fig.tight_layout(pad=1.0)\n",
        "\n",
        "for i, ax in enumerate(axes.flat):\n",
        "    random_index = np.random.randint(X_train.shape[0])\n",
        "    X_random_reshaped = X_train[random_index].reshape((28, 28))\n",
        "    ax.imshow(X_random_reshaped, cmap='gray')\n",
        "    ax.set_title(int(y_train[random_index]))\n",
        "    ax.set_axis_off()\n",
        "\n",
        "plt.show()"
      ],
      "metadata": {
        "colab": {
          "base_uri": "https://localhost:8080/",
          "height": 780
        },
        "id": "63TX1Us038MA",
        "outputId": "a7993288-f9d4-463a-f840-f9173d36c356"
      },
      "execution_count": 185,
      "outputs": [
        {
          "output_type": "display_data",
          "data": {
            "text/plain": [
              "<Figure size 800x800 with 16 Axes>"
            ],
            "image/png": "[encoded data removed]"
          },
          "metadata": {}
        }
      ]
    },
    {
      "cell_type": "markdown",
      "source": [
        "Build the Neural Network"
      ],
      "metadata": {
        "id": "Ts_-DCMMGe5n"
      }
    },
    {
      "cell_type": "code",
      "source": [
        "tf.random.set_seed(1000)\n",
        "model = Sequential(\n",
        "    [\n",
        "        tf.keras.layers.InputLayer((784,)),\n",
        "        tf.keras.layers.Dense(25, activation=\"relu\", name=\"L1\"),\n",
        "        tf.keras.layers.Dense(15, activation=\"relu\", name=\"L2\"),\n",
        "        tf.keras.layers.Dense(10, activation=\"linear\", name=\"L3\")\n",
        "    ], name = \"my_model\"\n",
        ")\n",
        "model.compile(loss=tf.keras.losses.SparseCategoricalCrossentropy(from_logits=True))"
      ],
      "metadata": {
        "id": "kr18ZfWr4cdh"
      },
      "execution_count": 186,
      "outputs": []
    },
    {
      "cell_type": "code",
      "source": [
        "model.summary()"
      ],
      "metadata": {
        "colab": {
          "base_uri": "https://localhost:8080/"
        },
        "id": "ezmcdw5G4gzH",
        "outputId": "e0b94cb6-20c8-48b7-e262-191ac1de78c8"
      },
      "execution_count": 187,
      "outputs": [
        {
          "output_type": "stream",
          "name": "stdout",
          "text": [
            "Model: \"my_model\"\n",
            "_________________________________________________________________\n",
            " Layer (type)                Output Shape              Param #   \n",
            "=================================================================\n",
            " L1 (Dense)                  (None, 25)                19625     \n",
            "                                                                 \n",
            " L2 (Dense)                  (None, 15)                390       \n",
            "                                                                 \n",
            " L3 (Dense)                  (None, 10)                160       \n",
            "                                                                 \n",
            "=================================================================\n",
            "Total params: 20175 (78.81 KB)\n",
            "Trainable params: 20175 (78.81 KB)\n",
            "Non-trainable params: 0 (0.00 Byte)\n",
            "_________________________________________________________________\n"
          ]
        }
      ]
    },
    {
      "cell_type": "markdown",
      "source": [
        "Compile the Model and Fit"
      ],
      "metadata": {
        "id": "JZd7YxdJGjLw"
      }
    },
    {
      "cell_type": "code",
      "source": [
        "model.compile(\n",
        "    loss=tf.keras.losses.SparseCategoricalCrossentropy(from_logits=True),\n",
        "    optimizer=tf.keras.optimizers.Adam(learning_rate=0.001),\n",
        ")\n",
        "\n",
        "history = model.fit(\n",
        "    X_train,y_train,\n",
        "    epochs=45\n",
        ")"
      ],
      "metadata": {
        "colab": {
          "base_uri": "https://localhost:8080/"
        },
        "id": "LHuGtCGZ4vBn",
        "outputId": "6dcd6077-cd3a-470d-e46f-1c541bc48f34"
      },
      "execution_count": 188,
      "outputs": [
        {
          "output_type": "stream",
          "name": "stdout",
          "text": [
            "Epoch 1/45\n",
            "1875/1875 [==============================] - 10s 5ms/step - loss: 0.4039\n",
            "Epoch 2/45\n",
            "1875/1875 [==============================] - 4s 2ms/step - loss: 0.1975\n",
            "Epoch 3/45\n",
            "1875/1875 [==============================] - 4s 2ms/step - loss: 0.1625\n",
            "Epoch 4/45\n",
            "1875/1875 [==============================] - 5s 3ms/step - loss: 0.1415\n",
            "Epoch 5/45\n",
            "1875/1875 [==============================] - 4s 2ms/step - loss: 0.1264\n",
            "Epoch 6/45\n",
            "1875/1875 [==============================] - 3s 2ms/step - loss: 0.1151\n",
            "Epoch 7/45\n",
            "1875/1875 [==============================] - 4s 2ms/step - loss: 0.1067\n",
            "Epoch 8/45\n",
            "1875/1875 [==============================] - 5s 3ms/step - loss: 0.0995\n",
            "Epoch 9/45\n",
            "1875/1875 [==============================] - 4s 2ms/step - loss: 0.0933\n",
            "Epoch 10/45\n",
            "1875/1875 [==============================] - 4s 2ms/step - loss: 0.0889\n",
            "Epoch 11/45\n",
            "1875/1875 [==============================] - 4s 2ms/step - loss: 0.0848\n",
            "Epoch 12/45\n",
            "1875/1875 [==============================] - 4s 2ms/step - loss: 0.0799\n",
            "Epoch 13/45\n",
            "1875/1875 [==============================] - 4s 2ms/step - loss: 0.0764\n",
            "Epoch 14/45\n",
            "1875/1875 [==============================] - 3s 2ms/step - loss: 0.0735\n",
            "Epoch 15/45\n",
            "1875/1875 [==============================] - 5s 3ms/step - loss: 0.0705\n",
            "Epoch 16/45\n",
            "1875/1875 [==============================] - 3s 2ms/step - loss: 0.0668\n",
            "Epoch 17/45\n",
            "1875/1875 [==============================] - 4s 2ms/step - loss: 0.0648\n",
            "Epoch 18/45\n",
            "1875/1875 [==============================] - 4s 2ms/step - loss: 0.0620\n",
            "Epoch 19/45\n",
            "1875/1875 [==============================] - 5s 2ms/step - loss: 0.0590\n",
            "Epoch 20/45\n",
            "1875/1875 [==============================] - 3s 2ms/step - loss: 0.0568\n",
            "Epoch 21/45\n",
            "1875/1875 [==============================] - 3s 2ms/step - loss: 0.0567\n",
            "Epoch 22/45\n",
            "1875/1875 [==============================] - 4s 2ms/step - loss: 0.0543\n",
            "Epoch 23/45\n",
            "1875/1875 [==============================] - 4s 2ms/step - loss: 0.0523\n",
            "Epoch 24/45\n",
            "1875/1875 [==============================] - 4s 2ms/step - loss: 0.0518\n",
            "Epoch 25/45\n",
            "1875/1875 [==============================] - 4s 2ms/step - loss: 0.0486\n",
            "Epoch 26/45\n",
            "1875/1875 [==============================] - 5s 2ms/step - loss: 0.0484\n",
            "Epoch 27/45\n",
            "1875/1875 [==============================] - 4s 2ms/step - loss: 0.0449\n",
            "Epoch 28/45\n",
            "1875/1875 [==============================] - 3s 2ms/step - loss: 0.0459\n",
            "Epoch 29/45\n",
            "1875/1875 [==============================] - 4s 2ms/step - loss: 0.0437\n",
            "Epoch 30/45\n",
            "1875/1875 [==============================] - 4s 2ms/step - loss: 0.0420\n",
            "Epoch 31/45\n",
            "1875/1875 [==============================] - 3s 2ms/step - loss: 0.0416\n",
            "Epoch 32/45\n",
            "1875/1875 [==============================] - 3s 2ms/step - loss: 0.0405\n",
            "Epoch 33/45\n",
            "1875/1875 [==============================] - 5s 3ms/step - loss: 0.0383\n",
            "Epoch 34/45\n",
            "1875/1875 [==============================] - 4s 2ms/step - loss: 0.0387\n",
            "Epoch 35/45\n",
            "1875/1875 [==============================] - 4s 2ms/step - loss: 0.0368\n",
            "Epoch 36/45\n",
            "1875/1875 [==============================] - 4s 2ms/step - loss: 0.0363\n",
            "Epoch 37/45\n",
            "1875/1875 [==============================] - 4s 2ms/step - loss: 0.0355\n",
            "Epoch 38/45\n",
            "1875/1875 [==============================] - 3s 2ms/step - loss: 0.0346\n",
            "Epoch 39/45\n",
            "1875/1875 [==============================] - 3s 2ms/step - loss: 0.0335\n",
            "Epoch 40/45\n",
            "1875/1875 [==============================] - 5s 3ms/step - loss: 0.0324\n",
            "Epoch 41/45\n",
            "1875/1875 [==============================] - 4s 2ms/step - loss: 0.0318\n",
            "Epoch 42/45\n",
            "1875/1875 [==============================] - 3s 2ms/step - loss: 0.0326\n",
            "Epoch 43/45\n",
            "1875/1875 [==============================] - 4s 2ms/step - loss: 0.0296\n",
            "Epoch 44/45\n",
            "1875/1875 [==============================] - 4s 2ms/step - loss: 0.0302\n",
            "Epoch 45/45\n",
            "1875/1875 [==============================] - 4s 2ms/step - loss: 0.0293\n"
          ]
        }
      ]
    },
    {
      "cell_type": "markdown",
      "source": [
        "Training Loss"
      ],
      "metadata": {
        "id": "gt9GnBMEGnuP"
      }
    },
    {
      "cell_type": "code",
      "source": [
        "fig,ax = plt.subplots(1,1, figsize = (4,3))\n",
        "ax.plot(history.history['loss'], label='loss')\n",
        "ax.set_ylim([0, 0.5])\n",
        "ax.set_xlabel('Epoch')\n",
        "ax.set_ylabel('loss (cost)')\n",
        "ax.legend()\n",
        "ax.grid(True)\n",
        "plt.show()"
      ],
      "metadata": {
        "colab": {
          "base_uri": "https://localhost:8080/",
          "height": 316
        },
        "id": "UXxBAD7x5Iwh",
        "outputId": "12eff8ea-26bc-40f1-d115-5623914d5b65"
      },
      "execution_count": 189,
      "outputs": [
        {
          "output_type": "display_data",
          "data": {
            "text/plain": [
              "<Figure size 400x300 with 1 Axes>"
            ],
            "image/png": "[encoded data removed]"
          },
          "metadata": {}
        }
      ]
    },
    {
      "cell_type": "markdown",
      "source": [
        "Example Prediction"
      ],
      "metadata": {
        "id": "-Rmut7d0G354"
      }
    },
    {
      "cell_type": "code",
      "source": [
        "example_image = X_train[2000]\n",
        "fig, ax = plt.subplots(1,1, figsize=(0.5,0.5))\n",
        "X_reshaped = example_image.reshape((28,28))\n",
        "# Display the image\n",
        "ax.imshow(X_reshaped, cmap='gray')\n",
        "plt.show()"
      ],
      "metadata": {
        "colab": {
          "base_uri": "https://localhost:8080/",
          "height": 104
        },
        "id": "jlqrEvAB4-A_",
        "outputId": "c8d7d9a6-96be-4322-95b4-12afa64fa89a"
      },
      "execution_count": 190,
      "outputs": [
        {
          "output_type": "display_data",
          "data": {
            "text/plain": [
              "<Figure size 50x50 with 1 Axes>"
            ],
            "image/png": "[encoded data removed]"
          },
          "metadata": {}
        }
      ]
    },
    {
      "cell_type": "code",
      "source": [
        "prediction = model.predict(example_image.reshape(1,784))\n",
        "prediction_p = tf.nn.softmax(prediction)\n",
        "\n",
        "print(f\" predicting a Two. Probability vector: \\n{prediction_p}\")\n",
        "print(f\"Total of predictions: {np.sum(prediction_p):0.3f}\")\n",
        "\n",
        "yhat = np.argmax(prediction_p)\n",
        "\n",
        "print(f\"np.argmax(prediction_p): {yhat}\")"
      ],
      "metadata": {
        "colab": {
          "base_uri": "https://localhost:8080/"
        },
        "id": "RqP3e11z5qkY",
        "outputId": "446c29fa-ba30-4064-aebc-cbee32720d64"
      },
      "execution_count": 191,
      "outputs": [
        {
          "output_type": "stream",
          "name": "stdout",
          "text": [
            "1/1 [==============================] - 0s 55ms/step\n",
            " predicting a Two. Probability vector: \n",
            "[[3.7395558e-03 2.9346991e-14 2.0006082e-10 4.1494957e-07 1.6333239e-08\n",
            "  9.9401516e-01 2.2375803e-03 3.1363301e-10 3.9265983e-06 3.2448806e-06]]\n",
            "Total of predictions: 1.000\n",
            "np.argmax(prediction_p): 5\n"
          ]
        }
      ]
    },
    {
      "cell_type": "markdown",
      "source": [
        "Model Training and Testing Accuracy"
      ],
      "metadata": {
        "id": "7h-ch86FHUJf"
      }
    },
    {
      "cell_type": "code",
      "source": [
        "from sklearn.metrics import accuracy_score\n",
        "\n",
        "# Assuming `model` is your trained model, `X_train` is your training data, and `y_train` is your true labels\n",
        "predictions = model.predict(X_train)\n",
        "yhat = np.argmax(predictions, axis=1)\n",
        "\n",
        "# Calculate accuracy\n",
        "accuracy = accuracy_score(y_train, yhat)\n",
        "print(f\"Training Accuracy: {accuracy * 100:.2f}%\")\n",
        "\n",
        "\n",
        "predictions = model.predict(X_test)\n",
        "yhat = np.argmax(predictions, axis=1)\n",
        "\n",
        "# Calculate accuracy\n",
        "accuracy = accuracy_score(y_test, yhat)\n",
        "print(f\"Testing Accuracy: {accuracy * 100:.2f}%\")"
      ],
      "metadata": {
        "colab": {
          "base_uri": "https://localhost:8080/"
        },
        "id": "MhtM41J46wPr",
        "outputId": "87b8d657-81a8-4e80-c153-37f8278948d8"
      },
      "execution_count": 192,
      "outputs": [
        {
          "output_type": "stream",
          "name": "stdout",
          "text": [
            "1875/1875 [==============================] - 3s 1ms/step\n",
            "Training Accuracy: 99.05%\n",
            "313/313 [==============================] - 1s 2ms/step\n",
            "Testing Accuracy: 96.08%\n"
          ]
        }
      ]
    }
  ]
}