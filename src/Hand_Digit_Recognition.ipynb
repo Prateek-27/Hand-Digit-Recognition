{
  "nbformat": 4,
  "nbformat_minor": 0,
  "metadata": {
    "colab": {
      "provenance": []
    },
    "kernelspec": {
      "name": "python3",
      "display_name": "Python 3"
    },
    "language_info": {
      "name": "python"
    }
  },
  "cells": [
    {
      "cell_type": "code",
      "source": [
        "import numpy as np\n",
        "import tensorflow as tf\n",
        "from tensorflow.keras.models import Sequential\n",
        "from tensorflow.keras.layers import Dense\n",
        "from tensorflow.keras.activations import linear, relu, sigmoid\n",
        "from sklearn.model_selection import train_test_split\n",
        "\n",
        "import matplotlib.pyplot as plt\n"
      ],
      "metadata": {
        "id": "LTaiwWJm288A"
      },
      "execution_count": 78,
      "outputs": []
    },
    {
      "cell_type": "markdown",
      "source": [
        "Load Data"
      ],
      "metadata": {
        "id": "5CcKbmR8GPhW"
      }
    },
    {
      "cell_type": "code",
      "execution_count": 79,
      "metadata": {
        "id": "vQ5k4DpEzv73"
      },
      "outputs": [],
      "source": [
        "X = np.load(\"data/X.npy\")\n",
        "y = np.load(\"data/y.npy\")"
      ]
    },
    {
      "cell_type": "markdown",
      "source": [
        "Train Test Split"
      ],
      "metadata": {
        "id": "0U6Zq6poGRCQ"
      }
    },
    {
      "cell_type": "code",
      "source": [
        "X_train, X_test, y_train, y_test = train_test_split(X, y, test_size=0.2, random_state=42)"
      ],
      "metadata": {
        "id": "ZZpJgXxk24-S"
      },
      "execution_count": 80,
      "outputs": []
    },
    {
      "cell_type": "code",
      "source": [
        "print ('The shape of X is: ' + str(X.shape))\n",
        "print ('The shape of X Train is: ' + str(X_train.shape))\n",
        "print ('The shape of X Test is: ' + str(X_test.shape))\n",
        "\n",
        "print ('The shape of y is: ' + str(y.shape))\n",
        "print ('The shape of y Train is: ' + str(y_train.shape))\n",
        "print ('The shape of y Test is: ' + str(y_test.shape))"
      ],
      "metadata": {
        "colab": {
          "base_uri": "https://localhost:8080/"
        },
        "id": "QqswK2E-7bwH",
        "outputId": "24a365ae-a3ef-458e-f86b-ea8ab6b7dea6"
      },
      "execution_count": 81,
      "outputs": [
        {
          "output_type": "stream",
          "name": "stdout",
          "text": [
            "The shape of X is: (5000, 400)\n",
            "The shape of X Train is: (4000, 400)\n",
            "The shape of X Test is: (1000, 400)\n",
            "The shape of y is: (5000, 1)\n",
            "The shape of y Train is: (4000, 1)\n",
            "The shape of y Test is: (1000, 1)\n"
          ]
        }
      ]
    },
    {
      "cell_type": "markdown",
      "source": [
        "View Random Images from the dataset and their labels"
      ],
      "metadata": {
        "id": "ht6o59JCGUif"
      }
    },
    {
      "cell_type": "code",
      "source": [
        "import warnings\n",
        "import matplotlib.pyplot as plt\n",
        "import numpy as np\n",
        "\n",
        "warnings.simplefilter(action='ignore', category=FutureWarning)\n",
        "\n",
        "m, n = X.shape\n",
        "\n",
        "fig, axes = plt.subplots(4, 4, figsize=(8, 8))\n",
        "fig.tight_layout(pad=1.0)\n",
        "\n",
        "for i, ax in enumerate(axes.flat):\n",
        "    random_index = np.random.randint(m)\n",
        "\n",
        "    X_random_reshaped = X[random_index].reshape((20, 20)).T\n",
        "\n",
        "    ax.imshow(X_random_reshaped, cmap='gray')\n",
        "\n",
        "    ax.set_title(int(y[random_index]))\n",
        "    ax.set_axis_off()\n",
        "\n",
        "plt.show()\n"
      ],
      "metadata": {
        "colab": {
          "base_uri": "https://localhost:8080/",
          "height": 835
        },
        "id": "63TX1Us038MA",
        "outputId": "8694e3de-bd3a-4c7a-9f98-68f1f39225dc"
      },
      "execution_count": 94,
      "outputs": [
        {
          "output_type": "stream",
          "name": "stderr",
          "text": [
            "<ipython-input-94-3c9c11c7f393>:19: DeprecationWarning: Conversion of an array with ndim > 0 to a scalar is deprecated, and will error in future. Ensure you extract a single element from your array before performing this operation. (Deprecated NumPy 1.25.)\n",
            "  ax.set_title(int(y[random_index]))\n"
          ]
        },
        {
          "output_type": "display_data",
          "data": {
            "text/plain": [
              "<Figure size 800x800 with 16 Axes>"
            ],
            "image/png": "[encoded data removed]"
          },
          "metadata": {}
        }
      ]
    },
    {
      "cell_type": "markdown",
      "source": [
        "Build the Neural Network"
      ],
      "metadata": {
        "id": "Ts_-DCMMGe5n"
      }
    },
    {
      "cell_type": "code",
      "source": [
        "tf.random.set_seed(1000)\n",
        "model = Sequential(\n",
        "    [\n",
        "        tf.keras.layers.InputLayer((400,)),\n",
        "        tf.keras.layers.Dense(25, activation=\"relu\", name=\"L1\"),\n",
        "        tf.keras.layers.Dense(15, activation=\"relu\", name=\"L2\"),\n",
        "        tf.keras.layers.Dense(10, activation=\"linear\", name=\"L3\")\n",
        "    ], name = \"my_model\"\n",
        ")\n",
        "model.compile(loss=tf.keras.losses.SparseCategoricalCrossentropy(from_logits=True))"
      ],
      "metadata": {
        "id": "kr18ZfWr4cdh"
      },
      "execution_count": 83,
      "outputs": []
    },
    {
      "cell_type": "code",
      "source": [
        "model.summary()"
      ],
      "metadata": {
        "colab": {
          "base_uri": "https://localhost:8080/"
        },
        "id": "ezmcdw5G4gzH",
        "outputId": "00c247f1-c12b-42d6-cc6a-337cde54d628"
      },
      "execution_count": 84,
      "outputs": [
        {
          "output_type": "stream",
          "name": "stdout",
          "text": [
            "Model: \"my_model\"\n",
            "_________________________________________________________________\n",
            " Layer (type)                Output Shape              Param #   \n",
            "=================================================================\n",
            " L1 (Dense)                  (None, 25)                10025     \n",
            "                                                                 \n",
            " L2 (Dense)                  (None, 15)                390       \n",
            "                                                                 \n",
            " L3 (Dense)                  (None, 10)                160       \n",
            "                                                                 \n",
            "=================================================================\n",
            "Total params: 10575 (41.31 KB)\n",
            "Trainable params: 10575 (41.31 KB)\n",
            "Non-trainable params: 0 (0.00 Byte)\n",
            "_________________________________________________________________\n"
          ]
        }
      ]
    },
    {
      "cell_type": "markdown",
      "source": [
        "Compile the Model and Fit"
      ],
      "metadata": {
        "id": "JZd7YxdJGjLw"
      }
    },
    {
      "cell_type": "code",
      "source": [
        "model.compile(\n",
        "    loss=tf.keras.losses.SparseCategoricalCrossentropy(from_logits=True),\n",
        "    optimizer=tf.keras.optimizers.Adam(learning_rate=0.001),\n",
        ")\n",
        "\n",
        "history = model.fit(\n",
        "    X_train,y_train,\n",
        "    epochs=40\n",
        ")"
      ],
      "metadata": {
        "colab": {
          "base_uri": "https://localhost:8080/"
        },
        "id": "LHuGtCGZ4vBn",
        "outputId": "78247e90-6f6c-410d-c3cc-47ca9915e801"
      },
      "execution_count": 85,
      "outputs": [
        {
          "output_type": "stream",
          "name": "stdout",
          "text": [
            "Epoch 1/40\n",
            "125/125 [==============================] - 1s 2ms/step - loss: 1.6192\n",
            "Epoch 2/40\n",
            "125/125 [==============================] - 0s 2ms/step - loss: 0.6531\n",
            "Epoch 3/40\n",
            "125/125 [==============================] - 0s 2ms/step - loss: 0.4376\n",
            "Epoch 4/40\n",
            "125/125 [==============================] - 0s 3ms/step - loss: 0.3539\n",
            "Epoch 5/40\n",
            "125/125 [==============================] - 0s 3ms/step - loss: 0.3098\n",
            "Epoch 6/40\n",
            "125/125 [==============================] - 0s 2ms/step - loss: 0.2774\n",
            "Epoch 7/40\n",
            "125/125 [==============================] - 0s 2ms/step - loss: 0.2528\n",
            "Epoch 8/40\n",
            "125/125 [==============================] - 0s 2ms/step - loss: 0.2363\n",
            "Epoch 9/40\n",
            "125/125 [==============================] - 0s 2ms/step - loss: 0.2221\n",
            "Epoch 10/40\n",
            "125/125 [==============================] - 0s 2ms/step - loss: 0.2108\n",
            "Epoch 11/40\n",
            "125/125 [==============================] - 0s 2ms/step - loss: 0.1934\n",
            "Epoch 12/40\n",
            "125/125 [==============================] - 0s 2ms/step - loss: 0.1856\n",
            "Epoch 13/40\n",
            "125/125 [==============================] - 0s 2ms/step - loss: 0.1753\n",
            "Epoch 14/40\n",
            "125/125 [==============================] - 0s 2ms/step - loss: 0.1703\n",
            "Epoch 15/40\n",
            "125/125 [==============================] - 0s 2ms/step - loss: 0.1607\n",
            "Epoch 16/40\n",
            "125/125 [==============================] - 0s 2ms/step - loss: 0.1542\n",
            "Epoch 17/40\n",
            "125/125 [==============================] - 0s 2ms/step - loss: 0.1478\n",
            "Epoch 18/40\n",
            "125/125 [==============================] - 0s 2ms/step - loss: 0.1403\n",
            "Epoch 19/40\n",
            "125/125 [==============================] - 0s 2ms/step - loss: 0.1367\n",
            "Epoch 20/40\n",
            "125/125 [==============================] - 0s 2ms/step - loss: 0.1300\n",
            "Epoch 21/40\n",
            "125/125 [==============================] - 0s 2ms/step - loss: 0.1240\n",
            "Epoch 22/40\n",
            "125/125 [==============================] - 0s 2ms/step - loss: 0.1196\n",
            "Epoch 23/40\n",
            "125/125 [==============================] - 0s 2ms/step - loss: 0.1130\n",
            "Epoch 24/40\n",
            "125/125 [==============================] - 0s 3ms/step - loss: 0.1105\n",
            "Epoch 25/40\n",
            "125/125 [==============================] - 0s 3ms/step - loss: 0.1045\n",
            "Epoch 26/40\n",
            "125/125 [==============================] - 0s 3ms/step - loss: 0.1001\n",
            "Epoch 27/40\n",
            "125/125 [==============================] - 0s 3ms/step - loss: 0.0976\n",
            "Epoch 28/40\n",
            "125/125 [==============================] - 0s 3ms/step - loss: 0.0931\n",
            "Epoch 29/40\n",
            "125/125 [==============================] - 0s 3ms/step - loss: 0.0914\n",
            "Epoch 30/40\n",
            "125/125 [==============================] - 0s 3ms/step - loss: 0.0861\n",
            "Epoch 31/40\n",
            "125/125 [==============================] - 0s 3ms/step - loss: 0.0829\n",
            "Epoch 32/40\n",
            "125/125 [==============================] - 0s 3ms/step - loss: 0.0819\n",
            "Epoch 33/40\n",
            "125/125 [==============================] - 0s 3ms/step - loss: 0.0748\n",
            "Epoch 34/40\n",
            "125/125 [==============================] - 0s 3ms/step - loss: 0.0717\n",
            "Epoch 35/40\n",
            "125/125 [==============================] - 0s 2ms/step - loss: 0.0714\n",
            "Epoch 36/40\n",
            "125/125 [==============================] - 0s 3ms/step - loss: 0.0672\n",
            "Epoch 37/40\n",
            "125/125 [==============================] - 0s 2ms/step - loss: 0.0614\n",
            "Epoch 38/40\n",
            "125/125 [==============================] - 0s 3ms/step - loss: 0.0616\n",
            "Epoch 39/40\n",
            "125/125 [==============================] - 0s 3ms/step - loss: 0.0588\n",
            "Epoch 40/40\n",
            "125/125 [==============================] - 0s 3ms/step - loss: 0.0563\n"
          ]
        }
      ]
    },
    {
      "cell_type": "markdown",
      "source": [
        "Training Loss"
      ],
      "metadata": {
        "id": "gt9GnBMEGnuP"
      }
    },
    {
      "cell_type": "code",
      "source": [
        "fig,ax = plt.subplots(1,1, figsize = (4,3))\n",
        "ax.plot(history.history['loss'], label='loss')\n",
        "ax.set_ylim([0, 2])\n",
        "ax.set_xlabel('Epoch')\n",
        "ax.set_ylabel('loss (cost)')\n",
        "ax.legend()\n",
        "ax.grid(True)\n",
        "plt.show()"
      ],
      "metadata": {
        "colab": {
          "base_uri": "https://localhost:8080/",
          "height": 316
        },
        "id": "UXxBAD7x5Iwh",
        "outputId": "3a8afd25-23e8-420a-f464-de0b0cb413e3"
      },
      "execution_count": 86,
      "outputs": [
        {
          "output_type": "display_data",
          "data": {
            "text/plain": [
              "<Figure size 400x300 with 1 Axes>"
            ],
            "image/png": "[encoded data removed]"
          },
          "metadata": {}
        }
      ]
    },
    {
      "cell_type": "markdown",
      "source": [
        "Example Prediction"
      ],
      "metadata": {
        "id": "-Rmut7d0G354"
      }
    },
    {
      "cell_type": "code",
      "source": [
        "example_image = X[1000]\n",
        "fig, ax = plt.subplots(1,1, figsize=(0.5,0.5))\n",
        "X_reshaped = example_image.reshape((20,20)).T\n",
        "# Display the image\n",
        "ax.imshow(X_reshaped, cmap='gray')\n",
        "plt.show()"
      ],
      "metadata": {
        "colab": {
          "base_uri": "https://localhost:8080/",
          "height": 103
        },
        "id": "jlqrEvAB4-A_",
        "outputId": "a6d8d57f-bfcc-48ca-a733-a05cd389c3b5"
      },
      "execution_count": 95,
      "outputs": [
        {
          "output_type": "display_data",
          "data": {
            "text/plain": [
              "<Figure size 50x50 with 1 Axes>"
            ],
            "image/png": "[encoded data removed]"
          },
          "metadata": {}
        }
      ]
    },
    {
      "cell_type": "code",
      "source": [
        "prediction = model.predict(example_image.reshape(1,400))\n",
        "prediction_p = tf.nn.softmax(prediction)\n",
        "\n",
        "print(f\" predicting a Two. Probability vector: \\n{prediction_p}\")\n",
        "print(f\"Total of predictions: {np.sum(prediction_p):0.3f}\")\n",
        "\n",
        "yhat = np.argmax(prediction_p)\n",
        "\n",
        "print(f\"np.argmax(prediction_p): {yhat}\")"
      ],
      "metadata": {
        "colab": {
          "base_uri": "https://localhost:8080/"
        },
        "id": "RqP3e11z5qkY",
        "outputId": "7e8c8e9b-f4d4-4c98-d0b2-0e4c77bb8081"
      },
      "execution_count": 100,
      "outputs": [
        {
          "output_type": "stream",
          "name": "stdout",
          "text": [
            "1/1 [==============================] - 0s 43ms/step\n",
            " predicting a Two. Probability vector: \n",
            "[[1.7530348e-05 3.1632194e-10 9.9769408e-01 5.1618874e-04 8.7187324e-10\n",
            "  4.2282423e-05 9.4304946e-09 1.2578227e-05 1.6586105e-03 5.8832124e-05]]\n",
            "Total of predictions: 1.000\n",
            "np.argmax(prediction_p): 2\n"
          ]
        }
      ]
    },
    {
      "cell_type": "markdown",
      "source": [
        "Model Training and Testing Accuracy"
      ],
      "metadata": {
        "id": "7h-ch86FHUJf"
      }
    },
    {
      "cell_type": "code",
      "source": [
        "from sklearn.metrics import accuracy_score\n",
        "\n",
        "# Assuming `model` is your trained model, `X_train` is your training data, and `y_train` is your true labels\n",
        "predictions = model.predict(X_train)\n",
        "yhat = np.argmax(predictions, axis=1)\n",
        "\n",
        "# Calculate accuracy\n",
        "accuracy = accuracy_score(y_train, yhat)\n",
        "print(f\"Training Accuracy: {accuracy * 100:.2f}%\")\n",
        "\n",
        "\n",
        "predictions = model.predict(X_test)\n",
        "yhat = np.argmax(predictions, axis=1)\n",
        "\n",
        "# Calculate accuracy\n",
        "accuracy = accuracy_score(y_test, yhat)\n",
        "print(f\"Testing Accuracy: {accuracy * 100:.2f}%\")"
      ],
      "metadata": {
        "colab": {
          "base_uri": "https://localhost:8080/"
        },
        "id": "MhtM41J46wPr",
        "outputId": "c7a8e69a-79a5-438f-cb96-908dd9dc94b8"
      },
      "execution_count": 91,
      "outputs": [
        {
          "output_type": "stream",
          "name": "stdout",
          "text": [
            "125/125 [==============================] - 0s 3ms/step\n",
            "Training Accuracy: 99.05%\n",
            "32/32 [==============================] - 0s 2ms/step\n",
            "Testing Accuracy: 90.80%\n"
          ]
        }
      ]
    }
  ]
}